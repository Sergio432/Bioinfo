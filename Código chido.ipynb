{
 "cells": [
  {
   "cell_type": "code",
   "execution_count": 1,
   "metadata": {},
   "outputs": [
    {
     "name": "stdout",
     "output_type": "stream",
     "text": [
      "Requirement already satisfied: Biopython in c:\\users\\yabs9\\anaconda3\\lib\\site-packages (1.77)\n",
      "Requirement already satisfied: numpy in c:\\users\\yabs9\\anaconda3\\lib\\site-packages (from Biopython) (1.18.5)\n",
      "Note: you may need to restart the kernel to use updated packages.\n"
     ]
    }
   ],
   "source": [
    "pip install Biopython"
   ]
  },
  {
   "cell_type": "code",
   "execution_count": 5,
   "metadata": {
    "scrolled": true
   },
   "outputs": [
    {
     "name": "stdout",
     "output_type": "stream",
     "text": [
      "Converted 15 records\n"
     ]
    }
   ],
   "source": [
    "from Bio import SeqIO\n",
    "records = SeqIO.parse(\"viruses_sequence.aln.txt\", \"clustal\")\n",
    "count = SeqIO.write(records, \"viruses_sequence.stockholm\", \"stockholm\")\n",
    "print(\"Converted %i records\" % count)"
   ]
  },
  {
   "cell_type": "code",
   "execution_count": 13,
   "metadata": {},
   "outputs": [
    {
     "name": "stdout",
     "output_type": "stream",
     "text": [
      "<generator object parse at 0x00000182B4CE94A0>\n"
     ]
    }
   ],
   "source": [
    "from Bio import AlignIO\n",
    "alignments = AlignIO.parse(open(\"viruses_sequence.stockholm\"),\"stockholm\")\n",
    "print(alignments)\n",
    "\n"
   ]
  },
  {
   "cell_type": "code",
   "execution_count": 14,
   "metadata": {},
   "outputs": [
    {
     "name": "stdout",
     "output_type": "stream",
     "text": [
      "SingleLetterAlphabet() alignment with 15 rows and 63269 columns\n",
      "--------------------------------------------...ATG J01917.1\n",
      "ACGCGAAAAAATGCGTACAACAAACTTGCGTAAACCAAAAAAAT...--- NC_001803.1\n",
      "--------------------------------------------...--- NC_039199.1\n",
      "--------------------------------------------...--- NC_038311.1\n",
      "--------------------------------------------...--- NC_010438.1\n",
      "--------------------------------------------...--- KU131570.1\n",
      "--------------------------------------------...--- NC_006577.2\n",
      "--------------------------------------------...--- KT368881.1\n",
      "--------------------------------------------...--- MH734115.1\n",
      "--------------------------------------------...--- MT452576.1\n",
      "--------------------------------------------...--- NC_045512.2\n",
      "--------------------------------------------...--- DQ648856.1\n",
      "--------------------------------------------...--- FJ882957.1\n",
      "--------------------------------------------...--- DQ497008.1\n",
      "--------------------------------------------...--- NC_004718.3\n"
     ]
    }
   ],
   "source": [
    "for alignment in alignments:\n",
    "    print(alignment)\n",
    "    "
   ]
  },
  {
   "cell_type": "code",
   "execution_count": 19,
   "metadata": {},
   "outputs": [
    {
     "name": "stdout",
     "output_type": "stream",
     "text": [
      "           ____________________________________________________ J01917.1\n",
      "       ___|\n",
      "      |   |                 ____________________________________ NC_001803.1\n",
      "  ____|   |________________|\n",
      " |    |                    |_____________________________________ NC_039199.1\n",
      " |    |\n",
      " |    |____________________________________________________ NC_038311.1\n",
      " |\n",
      " |___________________________________________ NC_010438.1\n",
      " |\n",
      " |                 ______________________ KU131570.1\n",
      "_|________________|\n",
      " |                |_____________________ NC_006577.2\n",
      " |\n",
      " |                                       , KT368881.1\n",
      " | ______________________________________|\n",
      " ||                                      | MH734115.1\n",
      " ||\n",
      " ||                                     , MT452576.1\n",
      "  |                     ________________|\n",
      "  |                    |                | NC_045512.2\n",
      "  |____________________|\n",
      "                       |        _________ DQ648856.1\n",
      "                       |       |\n",
      "                       |_______|        , FJ882957.1\n",
      "                               |        |\n",
      "                               |________| DQ497008.1\n",
      "                                        |\n",
      "                                        | NC_004718.3\n",
      "\n"
     ]
    }
   ],
   "source": [
    "from Bio import Phylo\n",
    "tree = Phylo.read(\"viruses_sequence.clustal.txt\",\"newick\")\n",
    "Phylo.draw_ascii(tree)"
   ]
  },
  {
   "cell_type": "code",
   "execution_count": null,
   "metadata": {},
   "outputs": [],
   "source": []
  }
 ],
 "metadata": {
  "kernelspec": {
   "display_name": "Python 3",
   "language": "python",
   "name": "python3"
  },
  "language_info": {
   "codemirror_mode": {
    "name": "ipython",
    "version": 3
   },
   "file_extension": ".py",
   "mimetype": "text/x-python",
   "name": "python",
   "nbconvert_exporter": "python",
   "pygments_lexer": "ipython3",
   "version": "3.8.3"
  }
 },
 "nbformat": 4,
 "nbformat_minor": 4
}
